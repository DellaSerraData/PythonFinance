{
 "cells": [
  {
   "cell_type": "code",
   "execution_count": 14,
   "id": "031d6949",
   "metadata": {},
   "outputs": [],
   "source": [
    "#Imports\n",
    "\n",
    "import MetaTrader5 as mt5\n",
    "from datetime import datetime\n",
    "import pandas as pd"
   ]
  },
  {
   "cell_type": "code",
   "execution_count": 2,
   "id": "781964ac",
   "metadata": {},
   "outputs": [
    {
     "data": {
      "text/plain": [
       "True"
      ]
     },
     "execution_count": 2,
     "metadata": {},
     "output_type": "execute_result"
    }
   ],
   "source": [
    "# Inicializando Conexao\n",
    "\n",
    "mt5.initialize()"
   ]
  },
  {
   "cell_type": "code",
   "execution_count": 4,
   "id": "93956fa9",
   "metadata": {
    "scrolled": true
   },
   "outputs": [
    {
     "data": {
      "text/plain": [
       "TerminalInfo(community_account=True, community_connection=True, connected=True, dlls_allowed=False, trade_allowed=False, tradeapi_disabled=False, email_enabled=False, ftp_enabled=False, notifications_enabled=False, mqid=False, build=3521, maxbars=100000, codepage=0, ping_last=195773, community_balance=0.0, retransmission=32.39664557893188, company='MetaQuotes Software Corp.', name='MetaTrader 5', language='English', path='C:\\\\Program Files\\\\MetaTrader 5', data_path='C:\\\\Users\\\\della\\\\AppData\\\\Roaming\\\\MetaQuotes\\\\Terminal\\\\D0E8209F77C8CF37AD8BF550E51FF075', commondata_path='C:\\\\Users\\\\della\\\\AppData\\\\Roaming\\\\MetaQuotes\\\\Terminal\\\\Common')"
      ]
     },
     "execution_count": 4,
     "metadata": {},
     "output_type": "execute_result"
    }
   ],
   "source": [
    "# Informacoes do Terminal\n",
    "\n",
    "mt5.terminal_info()"
   ]
  },
  {
   "cell_type": "code",
   "execution_count": 5,
   "id": "addb1b06",
   "metadata": {},
   "outputs": [],
   "source": [
    "# Criando Variavel do Terminal\n",
    "\n",
    "terminal = mt5.terminal_info()"
   ]
  },
  {
   "cell_type": "code",
   "execution_count": 6,
   "id": "6c82e971",
   "metadata": {},
   "outputs": [
    {
     "data": {
      "text/plain": [
       "True"
      ]
     },
     "execution_count": 6,
     "metadata": {},
     "output_type": "execute_result"
    }
   ],
   "source": [
    "terminal.community_connection"
   ]
  },
  {
   "cell_type": "code",
   "execution_count": 7,
   "id": "95e36364",
   "metadata": {},
   "outputs": [],
   "source": [
    "# Transformando Variavel Terminal em Dicionario.\n",
    "\n",
    "terminal = terminal._asdict()"
   ]
  },
  {
   "cell_type": "code",
   "execution_count": 8,
   "id": "1e1780eb",
   "metadata": {},
   "outputs": [
    {
     "data": {
      "text/plain": [
       "{'community_account': True,\n",
       " 'community_connection': True,\n",
       " 'connected': True,\n",
       " 'dlls_allowed': False,\n",
       " 'trade_allowed': False,\n",
       " 'tradeapi_disabled': False,\n",
       " 'email_enabled': False,\n",
       " 'ftp_enabled': False,\n",
       " 'notifications_enabled': False,\n",
       " 'mqid': False,\n",
       " 'build': 3521,\n",
       " 'maxbars': 100000,\n",
       " 'codepage': 0,\n",
       " 'ping_last': 195773,\n",
       " 'community_balance': 0.0,\n",
       " 'retransmission': 32.39664557893188,\n",
       " 'company': 'MetaQuotes Software Corp.',\n",
       " 'name': 'MetaTrader 5',\n",
       " 'language': 'English',\n",
       " 'path': 'C:\\\\Program Files\\\\MetaTrader 5',\n",
       " 'data_path': 'C:\\\\Users\\\\della\\\\AppData\\\\Roaming\\\\MetaQuotes\\\\Terminal\\\\D0E8209F77C8CF37AD8BF550E51FF075',\n",
       " 'commondata_path': 'C:\\\\Users\\\\della\\\\AppData\\\\Roaming\\\\MetaQuotes\\\\Terminal\\\\Common'}"
      ]
     },
     "execution_count": 8,
     "metadata": {},
     "output_type": "execute_result"
    }
   ],
   "source": [
    "terminal"
   ]
  },
  {
   "cell_type": "code",
   "execution_count": 9,
   "id": "085592ea",
   "metadata": {},
   "outputs": [
    {
     "data": {
      "text/plain": [
       "dict"
      ]
     },
     "execution_count": 9,
     "metadata": {},
     "output_type": "execute_result"
    }
   ],
   "source": [
    "type(terminal)"
   ]
  },
  {
   "cell_type": "code",
   "execution_count": 10,
   "id": "ecd3fae3",
   "metadata": {},
   "outputs": [
    {
     "name": "stdout",
     "output_type": "stream",
     "text": [
      "community_account  ->  True\n",
      "community_connection  ->  True\n",
      "connected  ->  True\n",
      "dlls_allowed  ->  False\n",
      "trade_allowed  ->  False\n",
      "tradeapi_disabled  ->  False\n",
      "email_enabled  ->  False\n",
      "ftp_enabled  ->  False\n",
      "notifications_enabled  ->  False\n",
      "mqid  ->  False\n",
      "build  ->  3521\n",
      "maxbars  ->  100000\n",
      "codepage  ->  0\n",
      "ping_last  ->  195773\n",
      "community_balance  ->  0.0\n",
      "retransmission  ->  32.39664557893188\n",
      "company  ->  MetaQuotes Software Corp.\n",
      "name  ->  MetaTrader 5\n",
      "language  ->  English\n",
      "path  ->  C:\\Program Files\\MetaTrader 5\n",
      "data_path  ->  C:\\Users\\della\\AppData\\Roaming\\MetaQuotes\\Terminal\\D0E8209F77C8CF37AD8BF550E51FF075\n",
      "commondata_path  ->  C:\\Users\\della\\AppData\\Roaming\\MetaQuotes\\Terminal\\Common\n"
     ]
    }
   ],
   "source": [
    "for k in terminal.keys():\n",
    "    print(k,\" -> \", terminal[k])"
   ]
  },
  {
   "cell_type": "code",
   "execution_count": 12,
   "id": "798e2fa9",
   "metadata": {},
   "outputs": [],
   "source": [
    "# Coletando Dados de Precos\n",
    "\n",
    "ativo = \"EURUSD\"\n",
    "\n",
    "date = datetime(2021,1,2)\n",
    "\n",
    "flag = mt5.COPY_TICKS_ALL\n",
    "\n",
    "dados = mt5.copy_ticks_from(ativo, date, 10, flag)"
   ]
  },
  {
   "cell_type": "code",
   "execution_count": 13,
   "id": "f0b43d1d",
   "metadata": {},
   "outputs": [
    {
     "data": {
      "text/plain": [
       "array([(1609718515, 1.22395, 1.22455, 0., 0, 1609718515460, 134, 0.),\n",
       "       (1609718520, 1.22393, 1.22445, 0., 0, 1609718520190, 134, 0.),\n",
       "       (1609718530, 1.22394, 1.22445, 0., 0, 1609718530442, 130, 0.),\n",
       "       (1609718551, 1.22394, 1.22435, 0., 0, 1609718551940,   4, 0.),\n",
       "       (1609718556, 1.22396, 1.22434, 0., 0, 1609718556444, 134, 0.),\n",
       "       (1609718574, 1.22373, 1.22435, 0., 0, 1609718574451, 134, 0.),\n",
       "       (1609718580, 1.22374, 1.22435, 0., 0, 1609718580450, 130, 0.),\n",
       "       (1609718594, 1.22366, 1.22435, 0., 0, 1609718594112, 130, 0.),\n",
       "       (1609718613, 1.22366, 1.22443, 0., 0, 1609718613432,   4, 0.),\n",
       "       (1609718614, 1.22366, 1.22435, 0., 0, 1609718614178,   4, 0.)],\n",
       "      dtype=[('time', '<i8'), ('bid', '<f8'), ('ask', '<f8'), ('last', '<f8'), ('volume', '<u8'), ('time_msc', '<i8'), ('flags', '<u4'), ('volume_real', '<f8')])"
      ]
     },
     "execution_count": 13,
     "metadata": {},
     "output_type": "execute_result"
    }
   ],
   "source": [
    "dados"
   ]
  },
  {
   "cell_type": "code",
   "execution_count": 17,
   "id": "83098ed3",
   "metadata": {},
   "outputs": [],
   "source": [
    "# Transformando de Array para DataFrame com a biblioteca Pandas\n",
    "\n",
    "df = pd.DataFrame(dados)"
   ]
  },
  {
   "cell_type": "code",
   "execution_count": 18,
   "id": "f99b1dc6",
   "metadata": {},
   "outputs": [
    {
     "data": {
      "text/html": [
       "<div>\n",
       "<style scoped>\n",
       "    .dataframe tbody tr th:only-of-type {\n",
       "        vertical-align: middle;\n",
       "    }\n",
       "\n",
       "    .dataframe tbody tr th {\n",
       "        vertical-align: top;\n",
       "    }\n",
       "\n",
       "    .dataframe thead th {\n",
       "        text-align: right;\n",
       "    }\n",
       "</style>\n",
       "<table border=\"1\" class=\"dataframe\">\n",
       "  <thead>\n",
       "    <tr style=\"text-align: right;\">\n",
       "      <th></th>\n",
       "      <th>time</th>\n",
       "      <th>bid</th>\n",
       "      <th>ask</th>\n",
       "      <th>last</th>\n",
       "      <th>volume</th>\n",
       "      <th>time_msc</th>\n",
       "      <th>flags</th>\n",
       "      <th>volume_real</th>\n",
       "    </tr>\n",
       "  </thead>\n",
       "  <tbody>\n",
       "    <tr>\n",
       "      <th>0</th>\n",
       "      <td>1609718515</td>\n",
       "      <td>1.22395</td>\n",
       "      <td>1.22455</td>\n",
       "      <td>0.0</td>\n",
       "      <td>0</td>\n",
       "      <td>1609718515460</td>\n",
       "      <td>134</td>\n",
       "      <td>0.0</td>\n",
       "    </tr>\n",
       "    <tr>\n",
       "      <th>1</th>\n",
       "      <td>1609718520</td>\n",
       "      <td>1.22393</td>\n",
       "      <td>1.22445</td>\n",
       "      <td>0.0</td>\n",
       "      <td>0</td>\n",
       "      <td>1609718520190</td>\n",
       "      <td>134</td>\n",
       "      <td>0.0</td>\n",
       "    </tr>\n",
       "    <tr>\n",
       "      <th>2</th>\n",
       "      <td>1609718530</td>\n",
       "      <td>1.22394</td>\n",
       "      <td>1.22445</td>\n",
       "      <td>0.0</td>\n",
       "      <td>0</td>\n",
       "      <td>1609718530442</td>\n",
       "      <td>130</td>\n",
       "      <td>0.0</td>\n",
       "    </tr>\n",
       "    <tr>\n",
       "      <th>3</th>\n",
       "      <td>1609718551</td>\n",
       "      <td>1.22394</td>\n",
       "      <td>1.22435</td>\n",
       "      <td>0.0</td>\n",
       "      <td>0</td>\n",
       "      <td>1609718551940</td>\n",
       "      <td>4</td>\n",
       "      <td>0.0</td>\n",
       "    </tr>\n",
       "    <tr>\n",
       "      <th>4</th>\n",
       "      <td>1609718556</td>\n",
       "      <td>1.22396</td>\n",
       "      <td>1.22434</td>\n",
       "      <td>0.0</td>\n",
       "      <td>0</td>\n",
       "      <td>1609718556444</td>\n",
       "      <td>134</td>\n",
       "      <td>0.0</td>\n",
       "    </tr>\n",
       "    <tr>\n",
       "      <th>5</th>\n",
       "      <td>1609718574</td>\n",
       "      <td>1.22373</td>\n",
       "      <td>1.22435</td>\n",
       "      <td>0.0</td>\n",
       "      <td>0</td>\n",
       "      <td>1609718574451</td>\n",
       "      <td>134</td>\n",
       "      <td>0.0</td>\n",
       "    </tr>\n",
       "    <tr>\n",
       "      <th>6</th>\n",
       "      <td>1609718580</td>\n",
       "      <td>1.22374</td>\n",
       "      <td>1.22435</td>\n",
       "      <td>0.0</td>\n",
       "      <td>0</td>\n",
       "      <td>1609718580450</td>\n",
       "      <td>130</td>\n",
       "      <td>0.0</td>\n",
       "    </tr>\n",
       "    <tr>\n",
       "      <th>7</th>\n",
       "      <td>1609718594</td>\n",
       "      <td>1.22366</td>\n",
       "      <td>1.22435</td>\n",
       "      <td>0.0</td>\n",
       "      <td>0</td>\n",
       "      <td>1609718594112</td>\n",
       "      <td>130</td>\n",
       "      <td>0.0</td>\n",
       "    </tr>\n",
       "    <tr>\n",
       "      <th>8</th>\n",
       "      <td>1609718613</td>\n",
       "      <td>1.22366</td>\n",
       "      <td>1.22443</td>\n",
       "      <td>0.0</td>\n",
       "      <td>0</td>\n",
       "      <td>1609718613432</td>\n",
       "      <td>4</td>\n",
       "      <td>0.0</td>\n",
       "    </tr>\n",
       "    <tr>\n",
       "      <th>9</th>\n",
       "      <td>1609718614</td>\n",
       "      <td>1.22366</td>\n",
       "      <td>1.22435</td>\n",
       "      <td>0.0</td>\n",
       "      <td>0</td>\n",
       "      <td>1609718614178</td>\n",
       "      <td>4</td>\n",
       "      <td>0.0</td>\n",
       "    </tr>\n",
       "  </tbody>\n",
       "</table>\n",
       "</div>"
      ],
      "text/plain": [
       "         time      bid      ask  last  volume       time_msc  flags  \\\n",
       "0  1609718515  1.22395  1.22455   0.0       0  1609718515460    134   \n",
       "1  1609718520  1.22393  1.22445   0.0       0  1609718520190    134   \n",
       "2  1609718530  1.22394  1.22445   0.0       0  1609718530442    130   \n",
       "3  1609718551  1.22394  1.22435   0.0       0  1609718551940      4   \n",
       "4  1609718556  1.22396  1.22434   0.0       0  1609718556444    134   \n",
       "5  1609718574  1.22373  1.22435   0.0       0  1609718574451    134   \n",
       "6  1609718580  1.22374  1.22435   0.0       0  1609718580450    130   \n",
       "7  1609718594  1.22366  1.22435   0.0       0  1609718594112    130   \n",
       "8  1609718613  1.22366  1.22443   0.0       0  1609718613432      4   \n",
       "9  1609718614  1.22366  1.22435   0.0       0  1609718614178      4   \n",
       "\n",
       "   volume_real  \n",
       "0          0.0  \n",
       "1          0.0  \n",
       "2          0.0  \n",
       "3          0.0  \n",
       "4          0.0  \n",
       "5          0.0  \n",
       "6          0.0  \n",
       "7          0.0  \n",
       "8          0.0  \n",
       "9          0.0  "
      ]
     },
     "execution_count": 18,
     "metadata": {},
     "output_type": "execute_result"
    }
   ],
   "source": [
    "df"
   ]
  },
  {
   "cell_type": "code",
   "execution_count": 22,
   "id": "47b1aa7d",
   "metadata": {},
   "outputs": [
    {
     "data": {
      "text/html": [
       "<div>\n",
       "<style scoped>\n",
       "    .dataframe tbody tr th:only-of-type {\n",
       "        vertical-align: middle;\n",
       "    }\n",
       "\n",
       "    .dataframe tbody tr th {\n",
       "        vertical-align: top;\n",
       "    }\n",
       "\n",
       "    .dataframe thead th {\n",
       "        text-align: right;\n",
       "    }\n",
       "</style>\n",
       "<table border=\"1\" class=\"dataframe\">\n",
       "  <thead>\n",
       "    <tr style=\"text-align: right;\">\n",
       "      <th></th>\n",
       "      <th>time</th>\n",
       "      <th>bid</th>\n",
       "      <th>ask</th>\n",
       "      <th>last</th>\n",
       "      <th>volume</th>\n",
       "      <th>time_msc</th>\n",
       "      <th>flags</th>\n",
       "      <th>volume_real</th>\n",
       "    </tr>\n",
       "  </thead>\n",
       "  <tbody>\n",
       "    <tr>\n",
       "      <th>count</th>\n",
       "      <td>1.000000e+01</td>\n",
       "      <td>10.000000</td>\n",
       "      <td>10.000000</td>\n",
       "      <td>10.0</td>\n",
       "      <td>10.0</td>\n",
       "      <td>1.000000e+01</td>\n",
       "      <td>10.000000</td>\n",
       "      <td>10.0</td>\n",
       "    </tr>\n",
       "    <tr>\n",
       "      <th>mean</th>\n",
       "      <td>1.609719e+09</td>\n",
       "      <td>1.223817</td>\n",
       "      <td>1.224397</td>\n",
       "      <td>0.0</td>\n",
       "      <td>0.0</td>\n",
       "      <td>1.609719e+12</td>\n",
       "      <td>93.800000</td>\n",
       "      <td>0.0</td>\n",
       "    </tr>\n",
       "    <tr>\n",
       "      <th>std</th>\n",
       "      <td>3.632890e+01</td>\n",
       "      <td>0.000137</td>\n",
       "      <td>0.000070</td>\n",
       "      <td>0.0</td>\n",
       "      <td>0.0</td>\n",
       "      <td>3.627016e+04</td>\n",
       "      <td>61.992473</td>\n",
       "      <td>0.0</td>\n",
       "    </tr>\n",
       "    <tr>\n",
       "      <th>min</th>\n",
       "      <td>1.609719e+09</td>\n",
       "      <td>1.223660</td>\n",
       "      <td>1.224340</td>\n",
       "      <td>0.0</td>\n",
       "      <td>0.0</td>\n",
       "      <td>1.609719e+12</td>\n",
       "      <td>4.000000</td>\n",
       "      <td>0.0</td>\n",
       "    </tr>\n",
       "    <tr>\n",
       "      <th>25%</th>\n",
       "      <td>1.609719e+09</td>\n",
       "      <td>1.223677</td>\n",
       "      <td>1.224350</td>\n",
       "      <td>0.0</td>\n",
       "      <td>0.0</td>\n",
       "      <td>1.609719e+12</td>\n",
       "      <td>35.500000</td>\n",
       "      <td>0.0</td>\n",
       "    </tr>\n",
       "    <tr>\n",
       "      <th>50%</th>\n",
       "      <td>1.609719e+09</td>\n",
       "      <td>1.223835</td>\n",
       "      <td>1.224350</td>\n",
       "      <td>0.0</td>\n",
       "      <td>0.0</td>\n",
       "      <td>1.609719e+12</td>\n",
       "      <td>130.000000</td>\n",
       "      <td>0.0</td>\n",
       "    </tr>\n",
       "    <tr>\n",
       "      <th>75%</th>\n",
       "      <td>1.609719e+09</td>\n",
       "      <td>1.223940</td>\n",
       "      <td>1.224445</td>\n",
       "      <td>0.0</td>\n",
       "      <td>0.0</td>\n",
       "      <td>1.609719e+12</td>\n",
       "      <td>134.000000</td>\n",
       "      <td>0.0</td>\n",
       "    </tr>\n",
       "    <tr>\n",
       "      <th>max</th>\n",
       "      <td>1.609719e+09</td>\n",
       "      <td>1.223960</td>\n",
       "      <td>1.224550</td>\n",
       "      <td>0.0</td>\n",
       "      <td>0.0</td>\n",
       "      <td>1.609719e+12</td>\n",
       "      <td>134.000000</td>\n",
       "      <td>0.0</td>\n",
       "    </tr>\n",
       "  </tbody>\n",
       "</table>\n",
       "</div>"
      ],
      "text/plain": [
       "               time        bid        ask  last  volume      time_msc  \\\n",
       "count  1.000000e+01  10.000000  10.000000  10.0    10.0  1.000000e+01   \n",
       "mean   1.609719e+09   1.223817   1.224397   0.0     0.0  1.609719e+12   \n",
       "std    3.632890e+01   0.000137   0.000070   0.0     0.0  3.627016e+04   \n",
       "min    1.609719e+09   1.223660   1.224340   0.0     0.0  1.609719e+12   \n",
       "25%    1.609719e+09   1.223677   1.224350   0.0     0.0  1.609719e+12   \n",
       "50%    1.609719e+09   1.223835   1.224350   0.0     0.0  1.609719e+12   \n",
       "75%    1.609719e+09   1.223940   1.224445   0.0     0.0  1.609719e+12   \n",
       "max    1.609719e+09   1.223960   1.224550   0.0     0.0  1.609719e+12   \n",
       "\n",
       "            flags  volume_real  \n",
       "count   10.000000         10.0  \n",
       "mean    93.800000          0.0  \n",
       "std     61.992473          0.0  \n",
       "min      4.000000          0.0  \n",
       "25%     35.500000          0.0  \n",
       "50%    130.000000          0.0  \n",
       "75%    134.000000          0.0  \n",
       "max    134.000000          0.0  "
      ]
     },
     "execution_count": 22,
     "metadata": {},
     "output_type": "execute_result"
    }
   ],
   "source": [
    "#Analise Estatistica\n",
    "\n",
    "df.describe()"
   ]
  },
  {
   "cell_type": "code",
   "execution_count": null,
   "id": "0d405b76",
   "metadata": {},
   "outputs": [],
   "source": []
  }
 ],
 "metadata": {
  "kernelspec": {
   "display_name": "Python 3 (ipykernel)",
   "language": "python",
   "name": "python3"
  },
  "language_info": {
   "codemirror_mode": {
    "name": "ipython",
    "version": 3
   },
   "file_extension": ".py",
   "mimetype": "text/x-python",
   "name": "python",
   "nbconvert_exporter": "python",
   "pygments_lexer": "ipython3",
   "version": "3.9.13"
  }
 },
 "nbformat": 4,
 "nbformat_minor": 5
}
